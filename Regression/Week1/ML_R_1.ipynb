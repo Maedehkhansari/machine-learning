{
 "cells": [
  {
   "cell_type": "markdown",
   "metadata": {},
   "source": [
    "<ul>\n",
    "    <li>توسط کتابخانه پانداز فایل csv را میخوانیم</li>\n",
    "    <li>دیتا تایپ داده شده در سوال را در هنگام خواندن فایل csv اصلاح میکنیم</li>\n",
    "    <li>هر دو فایل داده شده یعنی test و train را خوانده و در دو متغییر متفاوت قرار می دهیم</li>\n",
    "</ul>"
   ]
  },
  {
   "cell_type": "code",
   "execution_count": 3,
   "metadata": {},
   "outputs": [],
   "source": [
    "import pandas as pd\n",
    "\n",
    "data_types = {'bathrooms':float, 'waterfront':int, 'sqft_above':int, 'sqft_living15':float, 'grade':int, 'yr_renovated':int, 'price':float, 'bedrooms':float, 'zipcode':str, 'long':float, 'sqft_lot15':float, 'sqft_living':float, 'floors':str, 'condition':int, 'lat':float, 'date':str, 'sqft_basement':int, 'yr_built':int, 'id':str, 'sqft_lot':int, 'view':int}\n",
    "\n",
    "data_train = pd.read_csv('kc_house_train_data.csv', dtype = data_types)\n",
    "data_test = pd.read_csv('kc_house_test_data.csv', dtype = data_types)"
   ]
  },
  {
   "cell_type": "code",
   "execution_count": 4,
   "metadata": {},
   "outputs": [
    {
     "data": {
      "text/html": [
       "<div>\n",
       "<style scoped>\n",
       "    .dataframe tbody tr th:only-of-type {\n",
       "        vertical-align: middle;\n",
       "    }\n",
       "\n",
       "    .dataframe tbody tr th {\n",
       "        vertical-align: top;\n",
       "    }\n",
       "\n",
       "    .dataframe thead th {\n",
       "        text-align: right;\n",
       "    }\n",
       "</style>\n",
       "<table border=\"1\" class=\"dataframe\">\n",
       "  <thead>\n",
       "    <tr style=\"text-align: right;\">\n",
       "      <th></th>\n",
       "      <th>id</th>\n",
       "      <th>date</th>\n",
       "      <th>price</th>\n",
       "      <th>bedrooms</th>\n",
       "      <th>bathrooms</th>\n",
       "      <th>sqft_living</th>\n",
       "      <th>sqft_lot</th>\n",
       "      <th>floors</th>\n",
       "      <th>waterfront</th>\n",
       "      <th>view</th>\n",
       "      <th>...</th>\n",
       "      <th>grade</th>\n",
       "      <th>sqft_above</th>\n",
       "      <th>sqft_basement</th>\n",
       "      <th>yr_built</th>\n",
       "      <th>yr_renovated</th>\n",
       "      <th>zipcode</th>\n",
       "      <th>lat</th>\n",
       "      <th>long</th>\n",
       "      <th>sqft_living15</th>\n",
       "      <th>sqft_lot15</th>\n",
       "    </tr>\n",
       "  </thead>\n",
       "  <tbody>\n",
       "    <tr>\n",
       "      <th>0</th>\n",
       "      <td>7129300520</td>\n",
       "      <td>20141013T000000</td>\n",
       "      <td>221900.0</td>\n",
       "      <td>3.0</td>\n",
       "      <td>1.00</td>\n",
       "      <td>1180.0</td>\n",
       "      <td>5650</td>\n",
       "      <td>1</td>\n",
       "      <td>0</td>\n",
       "      <td>0</td>\n",
       "      <td>...</td>\n",
       "      <td>7</td>\n",
       "      <td>1180</td>\n",
       "      <td>0</td>\n",
       "      <td>1955</td>\n",
       "      <td>0</td>\n",
       "      <td>98178</td>\n",
       "      <td>47.5112</td>\n",
       "      <td>-122.257</td>\n",
       "      <td>1340.0</td>\n",
       "      <td>5650.0</td>\n",
       "    </tr>\n",
       "    <tr>\n",
       "      <th>1</th>\n",
       "      <td>6414100192</td>\n",
       "      <td>20141209T000000</td>\n",
       "      <td>538000.0</td>\n",
       "      <td>3.0</td>\n",
       "      <td>2.25</td>\n",
       "      <td>2570.0</td>\n",
       "      <td>7242</td>\n",
       "      <td>2</td>\n",
       "      <td>0</td>\n",
       "      <td>0</td>\n",
       "      <td>...</td>\n",
       "      <td>7</td>\n",
       "      <td>2170</td>\n",
       "      <td>400</td>\n",
       "      <td>1951</td>\n",
       "      <td>1991</td>\n",
       "      <td>98125</td>\n",
       "      <td>47.7210</td>\n",
       "      <td>-122.319</td>\n",
       "      <td>1690.0</td>\n",
       "      <td>7639.0</td>\n",
       "    </tr>\n",
       "    <tr>\n",
       "      <th>2</th>\n",
       "      <td>5631500400</td>\n",
       "      <td>20150225T000000</td>\n",
       "      <td>180000.0</td>\n",
       "      <td>2.0</td>\n",
       "      <td>1.00</td>\n",
       "      <td>770.0</td>\n",
       "      <td>10000</td>\n",
       "      <td>1</td>\n",
       "      <td>0</td>\n",
       "      <td>0</td>\n",
       "      <td>...</td>\n",
       "      <td>6</td>\n",
       "      <td>770</td>\n",
       "      <td>0</td>\n",
       "      <td>1933</td>\n",
       "      <td>0</td>\n",
       "      <td>98028</td>\n",
       "      <td>47.7379</td>\n",
       "      <td>-122.233</td>\n",
       "      <td>2720.0</td>\n",
       "      <td>8062.0</td>\n",
       "    </tr>\n",
       "    <tr>\n",
       "      <th>3</th>\n",
       "      <td>2487200875</td>\n",
       "      <td>20141209T000000</td>\n",
       "      <td>604000.0</td>\n",
       "      <td>4.0</td>\n",
       "      <td>3.00</td>\n",
       "      <td>1960.0</td>\n",
       "      <td>5000</td>\n",
       "      <td>1</td>\n",
       "      <td>0</td>\n",
       "      <td>0</td>\n",
       "      <td>...</td>\n",
       "      <td>7</td>\n",
       "      <td>1050</td>\n",
       "      <td>910</td>\n",
       "      <td>1965</td>\n",
       "      <td>0</td>\n",
       "      <td>98136</td>\n",
       "      <td>47.5208</td>\n",
       "      <td>-122.393</td>\n",
       "      <td>1360.0</td>\n",
       "      <td>5000.0</td>\n",
       "    </tr>\n",
       "    <tr>\n",
       "      <th>4</th>\n",
       "      <td>1954400510</td>\n",
       "      <td>20150218T000000</td>\n",
       "      <td>510000.0</td>\n",
       "      <td>3.0</td>\n",
       "      <td>2.00</td>\n",
       "      <td>1680.0</td>\n",
       "      <td>8080</td>\n",
       "      <td>1</td>\n",
       "      <td>0</td>\n",
       "      <td>0</td>\n",
       "      <td>...</td>\n",
       "      <td>8</td>\n",
       "      <td>1680</td>\n",
       "      <td>0</td>\n",
       "      <td>1987</td>\n",
       "      <td>0</td>\n",
       "      <td>98074</td>\n",
       "      <td>47.6168</td>\n",
       "      <td>-122.045</td>\n",
       "      <td>1800.0</td>\n",
       "      <td>7503.0</td>\n",
       "    </tr>\n",
       "  </tbody>\n",
       "</table>\n",
       "<p>5 rows × 21 columns</p>\n",
       "</div>"
      ],
      "text/plain": [
       "           id             date     price  bedrooms  bathrooms  sqft_living  \\\n",
       "0  7129300520  20141013T000000  221900.0       3.0       1.00       1180.0   \n",
       "1  6414100192  20141209T000000  538000.0       3.0       2.25       2570.0   \n",
       "2  5631500400  20150225T000000  180000.0       2.0       1.00        770.0   \n",
       "3  2487200875  20141209T000000  604000.0       4.0       3.00       1960.0   \n",
       "4  1954400510  20150218T000000  510000.0       3.0       2.00       1680.0   \n",
       "\n",
       "   sqft_lot floors  waterfront  view     ...      grade  sqft_above  \\\n",
       "0      5650      1           0     0     ...          7        1180   \n",
       "1      7242      2           0     0     ...          7        2170   \n",
       "2     10000      1           0     0     ...          6         770   \n",
       "3      5000      1           0     0     ...          7        1050   \n",
       "4      8080      1           0     0     ...          8        1680   \n",
       "\n",
       "   sqft_basement  yr_built  yr_renovated  zipcode      lat     long  \\\n",
       "0              0      1955             0    98178  47.5112 -122.257   \n",
       "1            400      1951          1991    98125  47.7210 -122.319   \n",
       "2              0      1933             0    98028  47.7379 -122.233   \n",
       "3            910      1965             0    98136  47.5208 -122.393   \n",
       "4              0      1987             0    98074  47.6168 -122.045   \n",
       "\n",
       "   sqft_living15  sqft_lot15  \n",
       "0         1340.0      5650.0  \n",
       "1         1690.0      7639.0  \n",
       "2         2720.0      8062.0  \n",
       "3         1360.0      5000.0  \n",
       "4         1800.0      7503.0  \n",
       "\n",
       "[5 rows x 21 columns]"
      ]
     },
     "execution_count": 4,
     "metadata": {},
     "output_type": "execute_result"
    }
   ],
   "source": [
    "#show first five train_data\n",
    "data_train.head()"
   ]
  },
  {
   "cell_type": "code",
   "execution_count": 5,
   "metadata": {},
   "outputs": [
    {
     "data": {
      "text/html": [
       "<div>\n",
       "<style scoped>\n",
       "    .dataframe tbody tr th:only-of-type {\n",
       "        vertical-align: middle;\n",
       "    }\n",
       "\n",
       "    .dataframe tbody tr th {\n",
       "        vertical-align: top;\n",
       "    }\n",
       "\n",
       "    .dataframe thead th {\n",
       "        text-align: right;\n",
       "    }\n",
       "</style>\n",
       "<table border=\"1\" class=\"dataframe\">\n",
       "  <thead>\n",
       "    <tr style=\"text-align: right;\">\n",
       "      <th></th>\n",
       "      <th>id</th>\n",
       "      <th>date</th>\n",
       "      <th>price</th>\n",
       "      <th>bedrooms</th>\n",
       "      <th>bathrooms</th>\n",
       "      <th>sqft_living</th>\n",
       "      <th>sqft_lot</th>\n",
       "      <th>floors</th>\n",
       "      <th>waterfront</th>\n",
       "      <th>view</th>\n",
       "      <th>...</th>\n",
       "      <th>grade</th>\n",
       "      <th>sqft_above</th>\n",
       "      <th>sqft_basement</th>\n",
       "      <th>yr_built</th>\n",
       "      <th>yr_renovated</th>\n",
       "      <th>zipcode</th>\n",
       "      <th>lat</th>\n",
       "      <th>long</th>\n",
       "      <th>sqft_living15</th>\n",
       "      <th>sqft_lot15</th>\n",
       "    </tr>\n",
       "  </thead>\n",
       "  <tbody>\n",
       "    <tr>\n",
       "      <th>0</th>\n",
       "      <td>0114101516</td>\n",
       "      <td>20140528T000000</td>\n",
       "      <td>310000.0</td>\n",
       "      <td>3.0</td>\n",
       "      <td>1.0</td>\n",
       "      <td>1430.0</td>\n",
       "      <td>19901</td>\n",
       "      <td>1.5</td>\n",
       "      <td>0</td>\n",
       "      <td>0</td>\n",
       "      <td>...</td>\n",
       "      <td>7</td>\n",
       "      <td>1430</td>\n",
       "      <td>0</td>\n",
       "      <td>1927</td>\n",
       "      <td>0</td>\n",
       "      <td>98028</td>\n",
       "      <td>47.7558</td>\n",
       "      <td>-122.229</td>\n",
       "      <td>1780.0</td>\n",
       "      <td>12697.0</td>\n",
       "    </tr>\n",
       "    <tr>\n",
       "      <th>1</th>\n",
       "      <td>9297300055</td>\n",
       "      <td>20150124T000000</td>\n",
       "      <td>650000.0</td>\n",
       "      <td>4.0</td>\n",
       "      <td>3.0</td>\n",
       "      <td>2950.0</td>\n",
       "      <td>5000</td>\n",
       "      <td>2</td>\n",
       "      <td>0</td>\n",
       "      <td>3</td>\n",
       "      <td>...</td>\n",
       "      <td>9</td>\n",
       "      <td>1980</td>\n",
       "      <td>970</td>\n",
       "      <td>1979</td>\n",
       "      <td>0</td>\n",
       "      <td>98126</td>\n",
       "      <td>47.5714</td>\n",
       "      <td>-122.375</td>\n",
       "      <td>2140.0</td>\n",
       "      <td>4000.0</td>\n",
       "    </tr>\n",
       "    <tr>\n",
       "      <th>2</th>\n",
       "      <td>1202000200</td>\n",
       "      <td>20141103T000000</td>\n",
       "      <td>233000.0</td>\n",
       "      <td>3.0</td>\n",
       "      <td>2.0</td>\n",
       "      <td>1710.0</td>\n",
       "      <td>4697</td>\n",
       "      <td>1.5</td>\n",
       "      <td>0</td>\n",
       "      <td>0</td>\n",
       "      <td>...</td>\n",
       "      <td>6</td>\n",
       "      <td>1710</td>\n",
       "      <td>0</td>\n",
       "      <td>1941</td>\n",
       "      <td>0</td>\n",
       "      <td>98002</td>\n",
       "      <td>47.3048</td>\n",
       "      <td>-122.218</td>\n",
       "      <td>1030.0</td>\n",
       "      <td>4705.0</td>\n",
       "    </tr>\n",
       "    <tr>\n",
       "      <th>3</th>\n",
       "      <td>8562750320</td>\n",
       "      <td>20141110T000000</td>\n",
       "      <td>580500.0</td>\n",
       "      <td>3.0</td>\n",
       "      <td>2.5</td>\n",
       "      <td>2320.0</td>\n",
       "      <td>3980</td>\n",
       "      <td>2</td>\n",
       "      <td>0</td>\n",
       "      <td>0</td>\n",
       "      <td>...</td>\n",
       "      <td>8</td>\n",
       "      <td>2320</td>\n",
       "      <td>0</td>\n",
       "      <td>2003</td>\n",
       "      <td>0</td>\n",
       "      <td>98027</td>\n",
       "      <td>47.5391</td>\n",
       "      <td>-122.070</td>\n",
       "      <td>2580.0</td>\n",
       "      <td>3980.0</td>\n",
       "    </tr>\n",
       "    <tr>\n",
       "      <th>4</th>\n",
       "      <td>7589200193</td>\n",
       "      <td>20141110T000000</td>\n",
       "      <td>535000.0</td>\n",
       "      <td>3.0</td>\n",
       "      <td>1.0</td>\n",
       "      <td>1090.0</td>\n",
       "      <td>3000</td>\n",
       "      <td>1.5</td>\n",
       "      <td>0</td>\n",
       "      <td>0</td>\n",
       "      <td>...</td>\n",
       "      <td>8</td>\n",
       "      <td>1090</td>\n",
       "      <td>0</td>\n",
       "      <td>1929</td>\n",
       "      <td>0</td>\n",
       "      <td>98117</td>\n",
       "      <td>47.6889</td>\n",
       "      <td>-122.375</td>\n",
       "      <td>1570.0</td>\n",
       "      <td>5080.0</td>\n",
       "    </tr>\n",
       "  </tbody>\n",
       "</table>\n",
       "<p>5 rows × 21 columns</p>\n",
       "</div>"
      ],
      "text/plain": [
       "           id             date     price  bedrooms  bathrooms  sqft_living  \\\n",
       "0  0114101516  20140528T000000  310000.0       3.0        1.0       1430.0   \n",
       "1  9297300055  20150124T000000  650000.0       4.0        3.0       2950.0   \n",
       "2  1202000200  20141103T000000  233000.0       3.0        2.0       1710.0   \n",
       "3  8562750320  20141110T000000  580500.0       3.0        2.5       2320.0   \n",
       "4  7589200193  20141110T000000  535000.0       3.0        1.0       1090.0   \n",
       "\n",
       "   sqft_lot floors  waterfront  view     ...      grade  sqft_above  \\\n",
       "0     19901    1.5           0     0     ...          7        1430   \n",
       "1      5000      2           0     3     ...          9        1980   \n",
       "2      4697    1.5           0     0     ...          6        1710   \n",
       "3      3980      2           0     0     ...          8        2320   \n",
       "4      3000    1.5           0     0     ...          8        1090   \n",
       "\n",
       "   sqft_basement  yr_built  yr_renovated  zipcode      lat     long  \\\n",
       "0              0      1927             0    98028  47.7558 -122.229   \n",
       "1            970      1979             0    98126  47.5714 -122.375   \n",
       "2              0      1941             0    98002  47.3048 -122.218   \n",
       "3              0      2003             0    98027  47.5391 -122.070   \n",
       "4              0      1929             0    98117  47.6889 -122.375   \n",
       "\n",
       "   sqft_living15  sqft_lot15  \n",
       "0         1780.0     12697.0  \n",
       "1         2140.0      4000.0  \n",
       "2         1030.0      4705.0  \n",
       "3         2580.0      3980.0  \n",
       "4         1570.0      5080.0  \n",
       "\n",
       "[5 rows x 21 columns]"
      ]
     },
     "execution_count": 5,
     "metadata": {},
     "output_type": "execute_result"
    }
   ],
   "source": [
    "#show first five test_data\n",
    "data_test.head()"
   ]
  },
  {
   "cell_type": "markdown",
   "metadata": {},
   "source": [
    "    تابعی می نویسیم که توسط روش closed form ورودی هایمان که همان ویژگی هایمان است مثل مساحت خانه و قیمت خانه ها را به آن داده و عرض از مبدا و شیب خط را از آن بگیرد\n"
   ]
  },
  {
   "cell_type": "code",
   "execution_count": 6,
   "metadata": {},
   "outputs": [],
   "source": [
    "def simple_linear_regression(input_feature, output):\n",
    "\n",
    "    N = len(input_feature)\n",
    "    sum_output = sum(output)\n",
    "    sum_input = sum(input_feature)\n",
    "    sum_input_output = sum(output * input_feature)\n",
    "    sum_input_tavan = sum(input_feature ** 2)\n",
    "\n",
    "    slope_sorat = (sum_input_output) - (sum_output * sum_input / N)\n",
    "    slope_makhraj = (sum_input_tavan) - (sum_input * sum_input / N)\n",
    "    slope = slope_sorat / slope_makhraj\n",
    "    intercept = (sum_output / N) - (slope * sum_input / N)\n",
    "\n",
    "    return(intercept, slope)"
   ]
  },
  {
   "attachments": {},
   "cell_type": "markdown",
   "metadata": {},
   "source": [
    "در اینجا محور xها را متراژ خانه ها در نظر میگیریم و محور yها را به عنوان قیمت خانه ها در نظر میگیریم و با استفاده از تابع بالا مقدار شیب و عرض از مبدا را به دست می آوریم. "
   ]
  },
  {
   "cell_type": "code",
   "execution_count": 9,
   "metadata": {},
   "outputs": [
    {
     "name": "stdout",
     "output_type": "stream",
     "text": [
      "intercept: -47116.07907289418\n",
      "slope: 281.9588396303426\n"
     ]
    }
   ],
   "source": [
    "input_feature = data_train['sqft_living']\n",
    "output = data_train['price']\n",
    "\n",
    "intercept_sqft_living, slope_sqft_living = simple_linear_regression(input_feature, output)\n",
    "\n",
    "print(f\"intercept: {intercept_sqft_living}\")\n",
    "print(f\"slope: { slope_sqft_living}\")"
   ]
  },
  {
   "cell_type": "markdown",
   "metadata": {},
   "source": [
    "ما توسط این تابع وفرمول y=w0+w1xمقدارقیمت پیش بینی شده را به دست می آوریم \n"
   ]
  },
  {
   "cell_type": "code",
   "execution_count": 10,
   "metadata": {},
   "outputs": [],
   "source": [
    "#w0+w1(x)\n",
    "def get_regression_predictions(input_feature, intercept, slope):\n",
    "    prediction = intercept + (slope * input_feature)\n",
    "    return(prediction)"
   ]
  },
  {
   "cell_type": "code",
   "execution_count": 11,
   "metadata": {},
   "outputs": [
    {
     "name": "stdout",
     "output_type": "stream",
     "text": [
      "0        2.855954e+05\n",
      "1        6.775181e+05\n",
      "2        1.699922e+05\n",
      "3        5.055232e+05\n",
      "4        4.265748e+05\n",
      "5        1.481101e+06\n",
      "6        4.364433e+05\n",
      "7        2.517603e+05\n",
      "8        4.547707e+05\n",
      "9        4.857861e+05\n",
      "10       9.566574e+05\n",
      "11       2.799562e+05\n",
      "12       3.391675e+05\n",
      "13       4.632294e+05\n",
      "14       4.857861e+05\n",
      "15       4.040181e+05\n",
      "16       2.912345e+05\n",
      "17       3.053325e+05\n",
      "18       4.096572e+05\n",
      "19       8.128584e+05\n",
      "20       5.929305e+05\n",
      "21       2.545799e+05\n",
      "22       6.436831e+05\n",
      "23       6.436831e+05\n",
      "24       3.476263e+05\n",
      "25       3.814614e+05\n",
      "26       6.775181e+05\n",
      "27       2.884149e+05\n",
      "28       6.098480e+05\n",
      "29       5.337191e+05\n",
      "             ...     \n",
      "17354    4.265748e+05\n",
      "17355    1.320384e+06\n",
      "17356    2.179252e+05\n",
      "17357    4.406727e+05\n",
      "17358    7.367295e+05\n",
      "17359    7.367295e+05\n",
      "17360    3.081521e+05\n",
      "17361    4.801470e+05\n",
      "17362    3.560851e+05\n",
      "17363    3.814614e+05\n",
      "17364    2.940541e+05\n",
      "17365    6.690594e+05\n",
      "17366    1.337302e+06\n",
      "17367    7.339099e+05\n",
      "17368    2.884149e+05\n",
      "17369    3.842809e+05\n",
      "17370    9.679357e+05\n",
      "17371    9.143636e+05\n",
      "17372    8.320316e+05\n",
      "17373    1.077900e+06\n",
      "17374    1.213240e+06\n",
      "17375    3.546753e+05\n",
      "17376    3.758222e+05\n",
      "17377    5.929305e+05\n",
      "17378    3.730026e+05\n",
      "17379    9.425594e+05\n",
      "17380    3.222500e+05\n",
      "17381    3.842809e+05\n",
      "17382    4.040181e+05\n",
      "17383    2.404819e+05\n",
      "Name: sqft_living, Length: 17384, dtype: float64\n"
     ]
    }
   ],
   "source": [
    "prediction_sqft_living = get_regression_predictions(input_feature,intercept_sqft_living,slope_sqft_living)\n",
    "print(prediction_sqft_living)"
   ]
  },
  {
   "cell_type": "markdown",
   "metadata": {},
   "source": [
    "با استفاده از شیب و عرض از مبدا قیمت خانه با متراژ ۲۶۵۰ محاسبه می کنیم"
   ]
  },
  {
   "cell_type": "code",
   "execution_count": 12,
   "metadata": {},
   "outputs": [
    {
     "name": "stdout",
     "output_type": "stream",
     "text": [
      "700074.8459475137\n"
     ]
    }
   ],
   "source": [
    "prediction_sqft_living = get_regression_predictions(2650,intercept_sqft_living,slope_sqft_living)\n",
    "print(prediction_sqft_living)"
   ]
  },
  {
   "cell_type": "markdown",
   "metadata": {},
   "source": [
    "با استفاده از تابع زیر جمع خطاها را حساب میکنیم         "
   ]
  },
  {
   "cell_type": "code",
   "execution_count": 13,
   "metadata": {},
   "outputs": [],
   "source": [
    "#Rss= RSS(w0,w1) \n",
    "#($house -[w0+w1sq.ft.house 1])2 \n",
    "def get_residual_sum_of_squares(input_feature, output, intercept,slope):\n",
    "    pridiction = get_regression_predictions(input_feature, intercept, slope)\n",
    "    RSS = (output - pridiction) ** 2\n",
    "    return sum(RSS) "
   ]
  },
  {
   "cell_type": "code",
   "execution_count": 14,
   "metadata": {
    "scrolled": true
   },
   "outputs": [
    {
     "name": "stdout",
     "output_type": "stream",
     "text": [
      "1201918354177286.2\n"
     ]
    }
   ],
   "source": [
    "RSS = get_residual_sum_of_squares(input_feature, output,intercept_sqft_living, slope_sqft_living)\n",
    "print(RSS)"
   ]
  },
  {
   "cell_type": "markdown",
   "metadata": {},
   "source": [
    "ما در اینجا از تابع معکوس استفاده میکنیم یعنی به جای اینکه متراژ بدهیم و قیمت را به دست آوریم قیمت می دهیم متراژ را بدست می آوریم   "
   ]
  },
  {
   "cell_type": "code",
   "execution_count": 15,
   "metadata": {},
   "outputs": [],
   "source": [
    "#x=y-w0/w1\n",
    "def inverse_regression_predictions(output, intercept, slope):\n",
    "    estimated_input = (output - intercept) / slope\n",
    "    return(estimated_input)"
   ]
  },
  {
   "cell_type": "code",
   "execution_count": 16,
   "metadata": {},
   "outputs": [
    {
     "name": "stdout",
     "output_type": "stream",
     "text": [
      "3004.3962451522766\n"
     ]
    }
   ],
   "source": [
    "estimated_input = inverse_regression_predictions(800000, intercept_sqft_living, slope_sqft_living)\n",
    "print(estimated_input)"
   ]
  },
  {
   "cell_type": "markdown",
   "metadata": {},
   "source": [
    "حال اینجا به جای ورودی متراژ خانه ها ورودی را تعداد اتاق خواب در نظر میگیریم و مجدد محاسبه انجام میدیم"
   ]
  },
  {
   "cell_type": "markdown",
   "metadata": {},
   "source": [
    "ولی برای داده تست این کار را انجام می دهیم با این که عرض از مبدا و شیب خط را از داده train بدست آورده ایم"
   ]
  },
  {
   "cell_type": "code",
   "execution_count": 17,
   "metadata": {},
   "outputs": [
    {
     "name": "stdout",
     "output_type": "stream",
     "text": [
      "intercept: 109473.1776229596\n",
      "slope: 127588.95293398784\n"
     ]
    }
   ],
   "source": [
    "input_feature_train_bedroom = data_train['bedrooms']\n",
    "output_train_price = data_train['price']\n",
    "\n",
    "input_feature_test_bedroom = data_test['bedrooms']\n",
    "output_test_price = data_test['price']\n",
    "\n",
    "intercept_bedrooms, slope_bedrooms = simple_linear_regression(input_feature_train_bedroom, output_train_price)\n",
    "\n",
    "print(f\"intercept: {intercept_bedrooms}\")\n",
    "print(f\"slope: { slope_bedrooms}\")"
   ]
  },
  {
   "cell_type": "code",
   "execution_count": 83,
   "metadata": {},
   "outputs": [
    {
     "name": "stdout",
     "output_type": "stream",
     "text": [
      "493364585960301.4\n"
     ]
    }
   ],
   "source": [
    "RSS = get_residual_sum_of_squares(input_feature_test_bedroom, output_test_price,intercept_bedrooms, slope_bedrooms)\n",
    "print(RSS)"
   ]
  },
  {
   "cell_type": "code",
   "execution_count": 84,
   "metadata": {},
   "outputs": [
    {
     "name": "stdout",
     "output_type": "stream",
     "text": [
      "intercept: -47116.07907289418\n",
      "slope: 281.9588396303426\n"
     ]
    }
   ],
   "source": [
    "input_feature_train_sqft_living = data['sqft_living']\n",
    "output_train_price = data['price']\n",
    "\n",
    "input_feature_test_sqft_living= data_test['sqft_living']\n",
    "output_test_price = data_test['price']\n",
    "\n",
    "intercept_sqft_living, slope_sqft_living = simple_linear_regression(input_feature_train_sqft_living, output_train_price)\n",
    "\n",
    "print(f\"intercept: {intercept_sqft_living}\")\n",
    "print(f\"slope: { slope_sqft_living}\")"
   ]
  },
  {
   "cell_type": "code",
   "execution_count": 85,
   "metadata": {},
   "outputs": [
    {
     "name": "stdout",
     "output_type": "stream",
     "text": [
      "275402933617813.1\n"
     ]
    }
   ],
   "source": [
    "RSS = get_residual_sum_of_squares(input_feature_test_sqft_living, output_test_price,intercept_sqft_living, slope_sqft_living)\n",
    "print(RSS)"
   ]
  }
 ],
 "metadata": {
  "kernelspec": {
   "display_name": "Python 3",
   "language": "python",
   "name": "python3"
  },
  "language_info": {
   "codemirror_mode": {
    "name": "ipython",
    "version": 3
   },
   "file_extension": ".py",
   "mimetype": "text/x-python",
   "name": "python",
   "nbconvert_exporter": "python",
   "pygments_lexer": "ipython3",
   "version": "3.7.1"
  }
 },
 "nbformat": 4,
 "nbformat_minor": 2
}
